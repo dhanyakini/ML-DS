{
 "cells": [
  {
   "cell_type": "code",
   "execution_count": 115,
   "id": "d477d9c4",
   "metadata": {},
   "outputs": [],
   "source": [
    "import pandas as pd\n",
    "import sklearn\n",
    "import numpy as np"
   ]
  },
  {
   "cell_type": "code",
   "execution_count": 116,
   "id": "ac268189",
   "metadata": {},
   "outputs": [],
   "source": [
    "dataset = pd.read_csv('gpa_study_hours.csv')"
   ]
  },
  {
   "cell_type": "code",
   "execution_count": 117,
   "id": "ffc932bb",
   "metadata": {
    "scrolled": true
   },
   "outputs": [
    {
     "name": "stdout",
     "output_type": "stream",
     "text": [
      "Keys of dataset:\n",
      " Index(['gpa', 'study_hours'], dtype='object')\n"
     ]
    }
   ],
   "source": [
    "print(\"Keys of dataset:\\n\", dataset.keys())"
   ]
  },
  {
   "cell_type": "code",
   "execution_count": 118,
   "id": "a96de9d6",
   "metadata": {},
   "outputs": [
    {
     "data": {
      "text/html": [
       "<div>\n",
       "<style scoped>\n",
       "    .dataframe tbody tr th:only-of-type {\n",
       "        vertical-align: middle;\n",
       "    }\n",
       "\n",
       "    .dataframe tbody tr th {\n",
       "        vertical-align: top;\n",
       "    }\n",
       "\n",
       "    .dataframe thead th {\n",
       "        text-align: right;\n",
       "    }\n",
       "</style>\n",
       "<table border=\"1\" class=\"dataframe\">\n",
       "  <thead>\n",
       "    <tr style=\"text-align: right;\">\n",
       "      <th></th>\n",
       "      <th>gpa</th>\n",
       "      <th>study_hours</th>\n",
       "    </tr>\n",
       "  </thead>\n",
       "  <tbody>\n",
       "    <tr>\n",
       "      <th>0</th>\n",
       "      <td>4.00</td>\n",
       "      <td>10.0</td>\n",
       "    </tr>\n",
       "    <tr>\n",
       "      <th>1</th>\n",
       "      <td>3.80</td>\n",
       "      <td>25.0</td>\n",
       "    </tr>\n",
       "    <tr>\n",
       "      <th>2</th>\n",
       "      <td>3.93</td>\n",
       "      <td>45.0</td>\n",
       "    </tr>\n",
       "    <tr>\n",
       "      <th>3</th>\n",
       "      <td>3.40</td>\n",
       "      <td>10.0</td>\n",
       "    </tr>\n",
       "    <tr>\n",
       "      <th>4</th>\n",
       "      <td>3.20</td>\n",
       "      <td>4.0</td>\n",
       "    </tr>\n",
       "  </tbody>\n",
       "</table>\n",
       "</div>"
      ],
      "text/plain": [
       "    gpa  study_hours\n",
       "0  4.00         10.0\n",
       "1  3.80         25.0\n",
       "2  3.93         45.0\n",
       "3  3.40         10.0\n",
       "4  3.20          4.0"
      ]
     },
     "execution_count": 118,
     "metadata": {},
     "output_type": "execute_result"
    }
   ],
   "source": [
    "# displays first 5 rows\n",
    "dataset.head()"
   ]
  },
  {
   "cell_type": "code",
   "execution_count": 119,
   "id": "67792082",
   "metadata": {},
   "outputs": [
    {
     "data": {
      "text/html": [
       "<div>\n",
       "<style scoped>\n",
       "    .dataframe tbody tr th:only-of-type {\n",
       "        vertical-align: middle;\n",
       "    }\n",
       "\n",
       "    .dataframe tbody tr th {\n",
       "        vertical-align: top;\n",
       "    }\n",
       "\n",
       "    .dataframe thead th {\n",
       "        text-align: right;\n",
       "    }\n",
       "</style>\n",
       "<table border=\"1\" class=\"dataframe\">\n",
       "  <thead>\n",
       "    <tr style=\"text-align: right;\">\n",
       "      <th></th>\n",
       "      <th>gpa</th>\n",
       "      <th>study_hours</th>\n",
       "    </tr>\n",
       "  </thead>\n",
       "  <tbody>\n",
       "    <tr>\n",
       "      <th>188</th>\n",
       "      <td>3.60</td>\n",
       "      <td>24.0</td>\n",
       "    </tr>\n",
       "    <tr>\n",
       "      <th>189</th>\n",
       "      <td>3.70</td>\n",
       "      <td>12.0</td>\n",
       "    </tr>\n",
       "    <tr>\n",
       "      <th>190</th>\n",
       "      <td>3.84</td>\n",
       "      <td>15.0</td>\n",
       "    </tr>\n",
       "    <tr>\n",
       "      <th>191</th>\n",
       "      <td>3.80</td>\n",
       "      <td>10.0</td>\n",
       "    </tr>\n",
       "    <tr>\n",
       "      <th>192</th>\n",
       "      <td>3.10</td>\n",
       "      <td>15.0</td>\n",
       "    </tr>\n",
       "  </tbody>\n",
       "</table>\n",
       "</div>"
      ],
      "text/plain": [
       "      gpa  study_hours\n",
       "188  3.60         24.0\n",
       "189  3.70         12.0\n",
       "190  3.84         15.0\n",
       "191  3.80         10.0\n",
       "192  3.10         15.0"
      ]
     },
     "execution_count": 119,
     "metadata": {},
     "output_type": "execute_result"
    }
   ],
   "source": [
    "# displays last 5 rows\n",
    "dataset.tail()"
   ]
  },
  {
   "cell_type": "code",
   "execution_count": 120,
   "id": "bca3d04b",
   "metadata": {},
   "outputs": [
    {
     "name": "stdout",
     "output_type": "stream",
     "text": [
      "<class 'pandas.core.frame.DataFrame'>\n",
      "RangeIndex: 193 entries, 0 to 192\n",
      "Data columns (total 2 columns):\n",
      " #   Column       Non-Null Count  Dtype  \n",
      "---  ------       --------------  -----  \n",
      " 0   gpa          193 non-null    float64\n",
      " 1   study_hours  193 non-null    float64\n",
      "dtypes: float64(2)\n",
      "memory usage: 3.1 KB\n"
     ]
    }
   ],
   "source": [
    "# displays all columns and their datatypes\n",
    "dataset.info()"
   ]
  },
  {
   "cell_type": "code",
   "execution_count": 121,
   "id": "2a8551e4",
   "metadata": {},
   "outputs": [
    {
     "data": {
      "text/html": [
       "<div>\n",
       "<style scoped>\n",
       "    .dataframe tbody tr th:only-of-type {\n",
       "        vertical-align: middle;\n",
       "    }\n",
       "\n",
       "    .dataframe tbody tr th {\n",
       "        vertical-align: top;\n",
       "    }\n",
       "\n",
       "    .dataframe thead th {\n",
       "        text-align: right;\n",
       "    }\n",
       "</style>\n",
       "<table border=\"1\" class=\"dataframe\">\n",
       "  <thead>\n",
       "    <tr style=\"text-align: right;\">\n",
       "      <th></th>\n",
       "      <th>gpa</th>\n",
       "      <th>study_hours</th>\n",
       "    </tr>\n",
       "  </thead>\n",
       "  <tbody>\n",
       "    <tr>\n",
       "      <th>count</th>\n",
       "      <td>193.000000</td>\n",
       "      <td>193.000000</td>\n",
       "    </tr>\n",
       "    <tr>\n",
       "      <th>mean</th>\n",
       "      <td>3.586166</td>\n",
       "      <td>17.476684</td>\n",
       "    </tr>\n",
       "    <tr>\n",
       "      <th>std</th>\n",
       "      <td>0.285482</td>\n",
       "      <td>11.408980</td>\n",
       "    </tr>\n",
       "    <tr>\n",
       "      <th>min</th>\n",
       "      <td>2.600000</td>\n",
       "      <td>2.000000</td>\n",
       "    </tr>\n",
       "    <tr>\n",
       "      <th>25%</th>\n",
       "      <td>3.400000</td>\n",
       "      <td>10.000000</td>\n",
       "    </tr>\n",
       "    <tr>\n",
       "      <th>50%</th>\n",
       "      <td>3.620000</td>\n",
       "      <td>15.000000</td>\n",
       "    </tr>\n",
       "    <tr>\n",
       "      <th>75%</th>\n",
       "      <td>3.800000</td>\n",
       "      <td>20.000000</td>\n",
       "    </tr>\n",
       "    <tr>\n",
       "      <th>max</th>\n",
       "      <td>4.300000</td>\n",
       "      <td>69.000000</td>\n",
       "    </tr>\n",
       "  </tbody>\n",
       "</table>\n",
       "</div>"
      ],
      "text/plain": [
       "              gpa  study_hours\n",
       "count  193.000000   193.000000\n",
       "mean     3.586166    17.476684\n",
       "std      0.285482    11.408980\n",
       "min      2.600000     2.000000\n",
       "25%      3.400000    10.000000\n",
       "50%      3.620000    15.000000\n",
       "75%      3.800000    20.000000\n",
       "max      4.300000    69.000000"
      ]
     },
     "execution_count": 121,
     "metadata": {},
     "output_type": "execute_result"
    }
   ],
   "source": [
    "# overview of the values each column contains\n",
    "dataset.describe()"
   ]
  },
  {
   "cell_type": "code",
   "execution_count": 122,
   "id": "9e3dcc5b",
   "metadata": {},
   "outputs": [
    {
     "name": "stdout",
     "output_type": "stream",
     "text": [
      "gpa: 0      4.00\n",
      "1      3.80\n",
      "2      3.93\n",
      "3      3.40\n",
      "4      3.20\n",
      "       ... \n",
      "188    3.60\n",
      "189    3.70\n",
      "190    3.84\n",
      "191    3.80\n",
      "192    3.10\n",
      "Name: gpa, Length: 193, dtype: float64\n"
     ]
    }
   ],
   "source": [
    "print(\"gpa:\", dataset['gpa'])"
   ]
  },
  {
   "cell_type": "code",
   "execution_count": 123,
   "id": "224cd6b4",
   "metadata": {},
   "outputs": [
    {
     "name": "stdout",
     "output_type": "stream",
     "text": [
      "study hours: 0      10.0\n",
      "1      25.0\n",
      "2      45.0\n",
      "3      10.0\n",
      "4       4.0\n",
      "       ... \n",
      "188    24.0\n",
      "189    12.0\n",
      "190    15.0\n",
      "191    10.0\n",
      "192    15.0\n",
      "Name: study_hours, Length: 193, dtype: float64\n"
     ]
    }
   ],
   "source": [
    "print(\"study hours:\", dataset['study_hours'])"
   ]
  },
  {
   "cell_type": "code",
   "execution_count": 124,
   "id": "9b2b9ee1",
   "metadata": {},
   "outputs": [
    {
     "name": "stdout",
     "output_type": "stream",
     "text": [
      "Shape of gpa: (193,)\n"
     ]
    }
   ],
   "source": [
    "print(\"Shape of gpa:\",dataset['gpa'].shape)"
   ]
  },
  {
   "cell_type": "code",
   "execution_count": 125,
   "id": "251c55af",
   "metadata": {},
   "outputs": [
    {
     "name": "stdout",
     "output_type": "stream",
     "text": [
      "Shape of study hours: (193,)\n"
     ]
    }
   ],
   "source": [
    "print(\"Shape of study hours:\",dataset['study_hours'].shape)"
   ]
  },
  {
   "cell_type": "code",
   "execution_count": 126,
   "id": "2df61d5b",
   "metadata": {},
   "outputs": [],
   "source": [
    "from sklearn.model_selection import train_test_split\n",
    "X_train, X_test, y_train, y_test = train_test_split(dataset['gpa'], dataset['study_hours'], random_state=0)"
   ]
  },
  {
   "cell_type": "code",
   "execution_count": 127,
   "id": "0306e4cd",
   "metadata": {},
   "outputs": [
    {
     "name": "stdout",
     "output_type": "stream",
     "text": [
      "X_train shape:  (144,)\n",
      "y_train shape:  (144,)\n"
     ]
    }
   ],
   "source": [
    "print(\"X_train shape: \",X_train.shape)\n",
    "print(\"y_train shape: \",y_train.shape)"
   ]
  },
  {
   "cell_type": "code",
   "execution_count": 128,
   "id": "ee2c643d",
   "metadata": {},
   "outputs": [
    {
     "name": "stdout",
     "output_type": "stream",
     "text": [
      "X_test shape:  (49,)\n",
      "y_test shape:  (49,)\n"
     ]
    }
   ],
   "source": [
    "print(\"X_test shape: \",X_test.shape)\n",
    "print(\"y_test shape: \",y_test.shape)"
   ]
  },
  {
   "cell_type": "code",
   "execution_count": 129,
   "id": "49da74ad",
   "metadata": {},
   "outputs": [
    {
     "name": "stdout",
     "output_type": "stream",
     "text": [
      "<class 'pandas.core.series.Series'>\n",
      "<class 'pandas.core.series.Series'>\n"
     ]
    }
   ],
   "source": [
    "print(type(X_train))\n",
    "print(type(y_train))"
   ]
  },
  {
   "cell_type": "code",
   "execution_count": 130,
   "id": "a5dac84a",
   "metadata": {},
   "outputs": [],
   "source": [
    "X_train = X_train.to_frame()\n",
    "#y_train = y_train.to_frame()"
   ]
  },
  {
   "cell_type": "code",
   "execution_count": 131,
   "id": "4b51171e",
   "metadata": {},
   "outputs": [
    {
     "name": "stdout",
     "output_type": "stream",
     "text": [
      "<class 'pandas.core.frame.DataFrame'>\n",
      "<class 'pandas.core.series.Series'>\n"
     ]
    }
   ],
   "source": [
    "print(type(X_train))\n",
    "print(type(y_train))"
   ]
  },
  {
   "cell_type": "code",
   "execution_count": 132,
   "id": "5c2825f1",
   "metadata": {
    "scrolled": true
   },
   "outputs": [
    {
     "name": "stdout",
     "output_type": "stream",
     "text": [
      "gpa    0\n",
      "dtype: int64\n"
     ]
    }
   ],
   "source": [
    "print(X_train.isnull().sum())"
   ]
  },
  {
   "cell_type": "code",
   "execution_count": 133,
   "id": "bebae07e",
   "metadata": {},
   "outputs": [],
   "source": [
    "# Remove rows with missing values from X_train\n",
    "X_train = X_train.dropna()\n",
    "\n",
    "# Match y_train with the remaining rows in X_train\n",
    "y_train = y_train.loc[X_train.index]"
   ]
  },
  {
   "cell_type": "code",
   "execution_count": 134,
   "id": "69ca9649",
   "metadata": {},
   "outputs": [],
   "source": [
    "from sklearn.neighbors import KNeighborsClassifier\n",
    "knn = KNeighborsClassifier(n_neighbors=3)"
   ]
  },
  {
   "cell_type": "code",
   "execution_count": 135,
   "id": "6b801aa4",
   "metadata": {},
   "outputs": [],
   "source": [
    "X_train=np.array(X_train).reshape(-1,1)"
   ]
  },
  {
   "cell_type": "code",
   "execution_count": 136,
   "id": "83d2ea12",
   "metadata": {},
   "outputs": [
    {
     "data": {
      "text/plain": [
       "KNeighborsClassifier(n_neighbors=3)"
      ]
     },
     "execution_count": 136,
     "metadata": {},
     "output_type": "execute_result"
    }
   ],
   "source": [
    "\n",
    "knn.fit(X_train,y_train)"
   ]
  },
  {
   "cell_type": "code",
   "execution_count": 137,
   "id": "2123bd67",
   "metadata": {},
   "outputs": [
    {
     "name": "stdout",
     "output_type": "stream",
     "text": [
      "X_new.shape: (1, 4)\n"
     ]
    }
   ],
   "source": [
    "X_new=np.array([[5,2.9,1,0.2]])\n",
    "print(\"X_new.shape:\",X_new.shape)"
   ]
  },
  {
   "cell_type": "code",
   "execution_count": 138,
   "id": "3a215aaf",
   "metadata": {},
   "outputs": [
    {
     "name": "stdout",
     "output_type": "stream",
     "text": [
      "Predictions: [10.  8.  7.  7.]\n",
      "Predicted gpas: 10    3.3\n",
      "8     3.7\n",
      "7     3.4\n",
      "7     3.4\n",
      "Name: gpa, dtype: float64\n"
     ]
    }
   ],
   "source": [
    "# # Assuming X_new is your new data\n",
    "# # Ensure X_new has the same preprocessing as X_train (label encoding, missing value handling, etc.)\n",
    "# # Convert X_new to a 2D array if it's a DataFrame\n",
    "# X_new_array = X_new.values\n",
    "X_new=np.array(X_new).reshape(-1,1)\n",
    "\n",
    "# Predict using the trained model\n",
    "predictions = knn.predict(X_new)\n",
    "\n",
    "# Print the predictions\n",
    "print(\"Predictions:\", predictions)\n",
    "print(\"Predicted gpas:\", dataset['gpa'][predictions])\n",
    "\n",
    "# predictions = []\n",
    "# for instance in X_new:\n",
    "#     prediction = knn.predict([instance])  # Reshape instance to match the model's expected input\n",
    "#     predictions.append(prediction)\n",
    "\n",
    "# # Convert predictions to a numpy array for easier indexing\n",
    "# predictions = np.array(predictions)\n",
    "# print(\"Predictions:\", predictions)\n",
    "# print(\"Predicted gpas:\", dataset['gpa'][predictions])\n",
    "\n",
    "# prediction=knn.predict(X_new)\n",
    "# print(\"Predictiion:\",prediction)\n",
    "# print(\"Predicted gpa:\", dataset['gpa'][prediction])"
   ]
  },
  {
   "cell_type": "code",
   "execution_count": 139,
   "id": "e82e37c8",
   "metadata": {},
   "outputs": [
    {
     "name": "stdout",
     "output_type": "stream",
     "text": [
      "Test set predictions: \n",
      " [ 6. 18. 10. 10.  6.  4. 10. 10. 10. 10.  6. 10. 15. 10.  4. 20. 10.  8.\n",
      "  7.  8.  5. 10.  8.  4.  7. 18. 15. 20.  4.  5.  6.  7. 15. 15. 10. 15.\n",
      " 20.  8. 18. 18. 20. 10.  4.  9. 10. 20.  6. 10. 10.]\n"
     ]
    }
   ],
   "source": [
    "X_test=np.array(X_test).reshape(-1,1)\n",
    "y_pred = knn.predict(X_test)\n",
    "print(\"Test set predictions: \\n\",y_pred)"
   ]
  },
  {
   "cell_type": "code",
   "execution_count": 140,
   "id": "a970c344",
   "metadata": {},
   "outputs": [
    {
     "name": "stdout",
     "output_type": "stream",
     "text": [
      "Test set score:0.08\n"
     ]
    }
   ],
   "source": [
    "print(\"Test set score:{:.2f}\".format(np.mean(y_pred==y_test)))"
   ]
  },
  {
   "cell_type": "code",
   "execution_count": 141,
   "id": "80575612",
   "metadata": {},
   "outputs": [
    {
     "name": "stdout",
     "output_type": "stream",
     "text": [
      "Regression score (R^2): -0.03\n"
     ]
    }
   ],
   "source": [
    "from sklearn.linear_model import LinearRegression\n",
    "\n",
    "# Create a LinearRegression model\n",
    "regressor = LinearRegression()\n",
    "\n",
    "# Train the model\n",
    "regressor.fit(X_train, y_train)\n",
    "\n",
    "# Make predictions\n",
    "y_pred = regressor.predict(X_test)\n",
    "\n",
    "# Calculate the regression score (e.g., R^2)\n",
    "regression_score = regressor.score(X_test, y_test)\n",
    "\n",
    "print(\"Regression score (R^2): {:.2f}\".format(regression_score))\n"
   ]
  },
  {
   "cell_type": "code",
   "execution_count": 142,
   "id": "ea48bccc",
   "metadata": {},
   "outputs": [],
   "source": [
    "# print(\"Test set score:{:.2f}\".format(knn.score(X_test,y_test)))"
   ]
  },
  {
   "cell_type": "code",
   "execution_count": 147,
   "id": "b20e9755",
   "metadata": {},
   "outputs": [
    {
     "data": {
      "text/plain": [
       "<matplotlib.legend.Legend at 0x7fe6fd77b520>"
      ]
     },
     "execution_count": 147,
     "metadata": {},
     "output_type": "execute_result"
    },
    {
     "data": {
      "image/png": "[encoded data removed]",
      "text/plain": [
       "<Figure size 432x288 with 1 Axes>"
      ]
     },
     "metadata": {
      "needs_background": "light"
     },
     "output_type": "display_data"
    }
   ],
   "source": [
    "%matplotlib inline\n",
    "import matplotlib.pyplot as plt\n",
    "from sklearn.neighbors import KNeighborsRegressor  # Import the KNeighborsRegressor class\n",
    "from sklearn.metrics import r2_score\n",
    "training_accuracy=[]\n",
    "test_accuracy=[]\n",
    "#neighbors_settings=range(1,11)\n",
    "for n_neighbors in neighbors_settings:\n",
    "    knn = KNeighborsRegressor(n_neighbors=n_neighbors)  # Use KNeighborsRegressor for regression\n",
    "    knn.fit(X_train, y_train)\n",
    "    training_accuracy.append(r2_score(y_train, knn.predict(X_train)))\n",
    "    test_accuracy.append(r2_score(y_test, knn.predict(X_test)))\n",
    "plt.plot(neighbors_settings,training_accuracy,label=\"training accuracy\")\n",
    "plt.plot(neighbors_settings,test_accuracy,label=\"test accuracy\")\n",
    "plt.ylabel(\"Accuracy\")  \n",
    "plt.xlabel(\"n_neighbors\")\n",
    "plt.legend()\n",
    "\n"
   ]
  },
  {
   "cell_type": "code",
   "execution_count": null,
   "id": "16b9f605",
   "metadata": {},
   "outputs": [],
   "source": []
  }
 ],
 "metadata": {
  "kernelspec": {
   "display_name": "Python 3 (ipykernel)",
   "language": "python",
   "name": "python3"
  },
  "language_info": {
   "codemirror_mode": {
    "name": "ipython",
    "version": 3
   },
   "file_extension": ".py",
   "mimetype": "text/x-python",
   "name": "python",
   "nbconvert_exporter": "python",
   "pygments_lexer": "ipython3",
   "version": "3.9.12"
  }
 },
 "nbformat": 4,
 "nbformat_minor": 5
}
